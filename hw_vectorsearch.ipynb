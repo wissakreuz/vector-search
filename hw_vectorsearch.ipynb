{
 "cells": [
  {
   "cell_type": "code",
   "execution_count": 40,
   "id": "40894848-3892-4ffd-bbd7-25a1a2684005",
   "metadata": {},
   "outputs": [
    {
     "name": "stdout",
     "output_type": "stream",
     "text": [
      "(512,)\n",
      "-0.11726373885183883\n"
     ]
    }
   ],
   "source": [
    "from fastembed import TextEmbedding\n",
    "\n",
    "embedder = TextEmbedding(\"jinaai/jina-embeddings-v2-small-en\")\n",
    "query = \"I just discovered the course. Can I join now?\"\n",
    "embedding_generator = embedder.embed([query])\n",
    "embedding = list(embedding_generator)[0]  \n",
    "\n",
    "print(embedding.shape)  \n",
    "print(embedding.min())  "
   ]
  },
  {
   "cell_type": "code",
   "execution_count": 41,
   "id": "a730007d-be4f-4d81-a821-3bebd99041d3",
   "metadata": {},
   "outputs": [
    {
     "name": "stdout",
     "output_type": "stream",
     "text": [
      "Norm query1: 1.0\n",
      "Norm query2: 0.9999999999999999\n",
      "Cosine similarity: 0.8580827139966509\n"
     ]
    }
   ],
   "source": [
    "import numpy as np\n",
    "\n",
    "query1 = \"I just discovered the course. Can I join now?\"\n",
    "query2 = \"Is it possible for me to enroll in the class?\"\n",
    "\n",
    "embedding1 = list(embedder.embed([query1]))[0]\n",
    "embedding2 = list(embedder.embed([query2]))[0]\n",
    "\n",
    "\n",
    "print(\"Norm query1:\", np.linalg.norm(embedding1))\n",
    "print(\"Norm query2:\", np.linalg.norm(embedding2))\n",
    "\n",
    "\n",
    "similarity = embedding1.dot(embedding2)\n",
    "print(\"Cosine similarity:\", similarity)\n"
   ]
  },
  {
   "cell_type": "code",
   "execution_count": 42,
   "id": "ef3e43d0-f4ff-4dac-b703-cf76127d5c15",
   "metadata": {},
   "outputs": [
    {
     "name": "stdout",
     "output_type": "stream",
     "text": [
      "Cosine similarity: 0.9008528895674548\n"
     ]
    }
   ],
   "source": [
    "query = \"I just discovered the course. Can I join now?\"\n",
    "doc = \"Can I still join the course after the start date?\"\n",
    "\n",
    "embedding_query = list(embedder.embed([query]))[0]\n",
    "embedding_doc = list(embedder.embed([doc]))[0]\n",
    "\n",
    "similarity = embedding_query.dot(embedding_doc)\n",
    "print(\"Cosine similarity:\", similarity)\n"
   ]
  },
  {
   "cell_type": "code",
   "execution_count": 34,
   "id": "371704f2-cd68-4742-8377-e882e7cc9b80",
   "metadata": {},
   "outputs": [
    {
     "name": "stdout",
     "output_type": "stream",
     "text": [
      "Most similar document index: 1\n"
     ]
    }
   ],
   "source": [
    "# Document texts\n",
    "documents = [\n",
    "    \"Yes, even if you don't register, you're still eligible to submit the homeworks.\\nBe aware, however, that there will be deadlines for turning in the final projects. So don't leave everything for the last minute.\",\n",
    "    \"Yes, we will keep all the materials after the course finishes, so you can follow the course at your own pace after it finishes.\\nYou can also continue looking at the homeworks and continue preparing for the next cohort. I guess you can also start working on your final capstone project.\",\n",
    "    \"The purpose of this document is to capture frequently asked technical questions\\nThe exact day and hour of the course will be 15th Jan 2024 at 17h00...\",\n",
    "    \"You can start by installing and setting up all the dependencies and requirements:\\nGoogle cloud account\\nGoogle Cloud SDK...\",\n",
    "    \"Star the repo! Share it with friends if you find it useful ❣️\\nCreate a PR if you see you can improve the text or the structure of the repository.\"\n",
    "]\n",
    "\n",
    "# Embed query and docs\n",
    "q = list(embedder.embed([query]))[0]\n",
    "V = np.vstack(list(embedder.embed(documents)))\n",
    "\n",
    "# Compute cosine similarities\n",
    "similarities = V.dot(q)\n",
    "most_similar_index = int(np.argmax(similarities))\n",
    "\n",
    "print(\"Most similar document index:\", most_similar_index)\n"
   ]
  },
  {
   "cell_type": "code",
   "execution_count": 35,
   "id": "af6565b5-bc5f-4324-9139-fcf3c753e43f",
   "metadata": {},
   "outputs": [
    {
     "name": "stdout",
     "output_type": "stream",
     "text": [
      "Best document index: 0\n"
     ]
    }
   ],
   "source": [
    "documents = [\n",
    "    {'text': \"Yes, even if you don't register, you're still eligible to submit the homeworks...\",\n",
    "     'question': 'Course - Can I still join the course after the start date?'},\n",
    "    {'text': 'Yes, we will keep all the materials after the course finishes...',\n",
    "     'question': 'Course - Can I follow the course after it finishes?'},\n",
    "    {'text': 'The purpose of this document is to capture frequently asked technical questions...',\n",
    "     'question': 'Course - When will the course start?'},\n",
    "    {'text': 'You can start by installing and setting up all the dependencies and requirements...',\n",
    "     'question': 'Course - What can I do before the course starts?'},\n",
    "    {'text': 'Star the repo! Share it with friends if you find it useful ❣️...',\n",
    "     'question': 'How can we contribute to the course?'}\n",
    "]\n",
    "\n",
    "\n",
    "full_texts = [doc['question'] + ' ' + doc['text'] for doc in documents]\n",
    "\n",
    "\n",
    "V = np.vstack(list(embedder.embed(full_texts)))\n",
    "\n",
    "\n",
    "similarities = V.dot(q)\n",
    "best_index = int(np.argmax(similarities))\n",
    "\n",
    "print(\"Best document index:\", best_index)\n"
   ]
  },
  {
   "cell_type": "code",
   "execution_count": 36,
   "id": "781c3d59-d32e-47d0-aef8-1237b169f9ab",
   "metadata": {},
   "outputs": [
    {
     "name": "stdout",
     "output_type": "stream",
     "text": [
      "Embedding dimension: 384\n"
     ]
    }
   ],
   "source": [
    "embedder = TextEmbedding(\"BAAI/bge-small-en\")\n",
    "embedding = list(embedder.embed([\"example sentence\"]))[0]\n",
    "\n",
    "print(\"Embedding dimension:\", len(embedding))  \n"
   ]
  },
  {
   "cell_type": "code",
   "execution_count": 37,
   "id": "10e46266-d974-4fee-9f9b-65bd97303f94",
   "metadata": {},
   "outputs": [
    {
     "name": "stdout",
     "output_type": "stream",
     "text": [
      "Top result score: 0.8703173398971558\n"
     ]
    },
    {
     "name": "stderr",
     "output_type": "stream",
     "text": [
      "C:\\Users\\nicol\\AppData\\Local\\Temp\\ipykernel_35536\\258049234.py:30: DeprecationWarning: `recreate_collection` method is deprecated and will be removed in the future. Use `collection_exists` to check collection existence and `create_collection` instead.\n",
      "  client.recreate_collection(\n",
      "C:\\Users\\nicol\\AppData\\Local\\Temp\\ipykernel_35536\\258049234.py:40: DeprecationWarning: `search` method is deprecated and will be removed in the future. Use `query_points` instead.\n",
      "  search_result = client.search(\n"
     ]
    }
   ],
   "source": [
    "import qdrant_client\n",
    "from qdrant_client.models import Distance, VectorParams, PointStruct\n",
    "import requests\n",
    "\n",
    "\n",
    "docs_url = 'https://github.com/alexeygrigorev/llm-rag-workshop/raw/main/notebooks/documents.json'\n",
    "documents_raw = requests.get(docs_url).json()\n",
    "\n",
    "\n",
    "documents = []\n",
    "for course in documents_raw:\n",
    "    if course['course'] != 'machine-learning-zoomcamp':\n",
    "        continue\n",
    "    for doc in course['documents']:\n",
    "        doc['course'] = course['course']\n",
    "        documents.append(doc)\n",
    "\n",
    "\n",
    "embedder = TextEmbedding(\"BAAI/bge-small-en\")\n",
    "\n",
    "\n",
    "points = []\n",
    "for idx, doc in enumerate(documents):\n",
    "    full_text = doc['question'] + ' ' + doc['text']\n",
    "    vector = list(embedder.embed([full_text]))[0]\n",
    "    points.append(PointStruct(id=idx, vector=vector, payload=doc))\n",
    "\n",
    "\n",
    "client = qdrant_client.QdrantClient(\":memory:\")  # or use local/server\n",
    "client.recreate_collection(\n",
    "    collection_name=\"ml_zoomcamp_faq\",\n",
    "    vectors_config=VectorParams(size=384, distance=Distance.COSINE),\n",
    ")\n",
    "client.upsert(collection_name=\"ml_zoomcamp_faq\", points=points)\n",
    "\n",
    "\n",
    "query = \"I just discovered the course. Can I join now?\"\n",
    "query_vector = list(embedder.embed([query]))[0]\n",
    "\n",
    "search_result = client.search(\n",
    "    collection_name=\"ml_zoomcamp_faq\",\n",
    "    query_vector=query_vector,\n",
    "    limit=1  \n",
    ")\n",
    "\n",
    "print(\"Top result score:\", search_result[0].score)\n"
   ]
  }
 ],
 "metadata": {
  "kernelspec": {
   "display_name": "Python 3 (ipykernel)",
   "language": "python",
   "name": "python3"
  },
  "language_info": {
   "codemirror_mode": {
    "name": "ipython",
    "version": 3
   },
   "file_extension": ".py",
   "mimetype": "text/x-python",
   "name": "python",
   "nbconvert_exporter": "python",
   "pygments_lexer": "ipython3",
   "version": "3.13.1"
  }
 },
 "nbformat": 4,
 "nbformat_minor": 5
}
